{
 "cells": [
  {
   "cell_type": "code",
   "execution_count": 1,
   "id": "416b7324",
   "metadata": {},
   "outputs": [],
   "source": [
    "# Importaciones necesarias\n",
    "\n",
    "import pandas as pd\n",
    "import matplotlib.pyplot as plt"
   ]
  },
  {
   "cell_type": "code",
   "execution_count": 2,
   "id": "2c9c8b23",
   "metadata": {},
   "outputs": [
    {
     "data": {
      "text/html": [
       "<div>\n",
       "<style scoped>\n",
       "    .dataframe tbody tr th:only-of-type {\n",
       "        vertical-align: middle;\n",
       "    }\n",
       "\n",
       "    .dataframe tbody tr th {\n",
       "        vertical-align: top;\n",
       "    }\n",
       "\n",
       "    .dataframe thead th {\n",
       "        text-align: right;\n",
       "    }\n",
       "</style>\n",
       "<table border=\"1\" class=\"dataframe\">\n",
       "  <thead>\n",
       "    <tr style=\"text-align: right;\">\n",
       "      <th></th>\n",
       "      <th>DEPARTAMENTO</th>\n",
       "      <th>MUNICIPIO</th>\n",
       "      <th>CODIGO DANE</th>\n",
       "      <th>ARMAS MEDIOS</th>\n",
       "      <th>FECHA HECHO</th>\n",
       "      <th>GENERO</th>\n",
       "      <th>GRUPO ETARIO</th>\n",
       "      <th>CANTIDAD</th>\n",
       "    </tr>\n",
       "  </thead>\n",
       "  <tbody>\n",
       "    <tr>\n",
       "      <th>0</th>\n",
       "      <td>ATLÁNTICO</td>\n",
       "      <td>BARRANQUILLA (CT)</td>\n",
       "      <td>8001000</td>\n",
       "      <td>ARMA BLANCA / CORTOPUNZANTE</td>\n",
       "      <td>1/01/2010</td>\n",
       "      <td>MASCULINO</td>\n",
       "      <td>ADULTOS</td>\n",
       "      <td>1</td>\n",
       "    </tr>\n",
       "    <tr>\n",
       "      <th>1</th>\n",
       "      <td>BOYACÁ</td>\n",
       "      <td>DUITAMA</td>\n",
       "      <td>15238000</td>\n",
       "      <td>ARMA BLANCA / CORTOPUNZANTE</td>\n",
       "      <td>1/01/2010</td>\n",
       "      <td>FEMENINO</td>\n",
       "      <td>ADULTOS</td>\n",
       "      <td>1</td>\n",
       "    </tr>\n",
       "    <tr>\n",
       "      <th>2</th>\n",
       "      <td>CAQUETÁ</td>\n",
       "      <td>PUERTO RICO</td>\n",
       "      <td>18592000</td>\n",
       "      <td>ARMA BLANCA / CORTOPUNZANTE</td>\n",
       "      <td>1/01/2010</td>\n",
       "      <td>MASCULINO</td>\n",
       "      <td>ADULTOS</td>\n",
       "      <td>1</td>\n",
       "    </tr>\n",
       "    <tr>\n",
       "      <th>3</th>\n",
       "      <td>CASANARE</td>\n",
       "      <td>MANÍ</td>\n",
       "      <td>85139000</td>\n",
       "      <td>ARMA BLANCA / CORTOPUNZANTE</td>\n",
       "      <td>1/01/2010</td>\n",
       "      <td>FEMENINO</td>\n",
       "      <td>ADULTOS</td>\n",
       "      <td>1</td>\n",
       "    </tr>\n",
       "    <tr>\n",
       "      <th>4</th>\n",
       "      <td>CUNDINAMARCA</td>\n",
       "      <td>BOGOTÁ D.C. (CT)</td>\n",
       "      <td>11001000</td>\n",
       "      <td>ARMA BLANCA / CORTOPUNZANTE</td>\n",
       "      <td>1/01/2010</td>\n",
       "      <td>FEMENINO</td>\n",
       "      <td>ADULTOS</td>\n",
       "      <td>1</td>\n",
       "    </tr>\n",
       "  </tbody>\n",
       "</table>\n",
       "</div>"
      ],
      "text/plain": [
       "   DEPARTAMENTO          MUNICIPIO CODIGO DANE                 ARMAS MEDIOS  \\\n",
       "0     ATLÁNTICO  BARRANQUILLA (CT)     8001000  ARMA BLANCA / CORTOPUNZANTE   \n",
       "1        BOYACÁ            DUITAMA    15238000  ARMA BLANCA / CORTOPUNZANTE   \n",
       "2       CAQUETÁ        PUERTO RICO    18592000  ARMA BLANCA / CORTOPUNZANTE   \n",
       "3      CASANARE               MANÍ    85139000  ARMA BLANCA / CORTOPUNZANTE   \n",
       "4  CUNDINAMARCA   BOGOTÁ D.C. (CT)    11001000  ARMA BLANCA / CORTOPUNZANTE   \n",
       "\n",
       "  FECHA HECHO     GENERO GRUPO ETARIO  CANTIDAD  \n",
       "0   1/01/2010  MASCULINO      ADULTOS         1  \n",
       "1   1/01/2010   FEMENINO      ADULTOS         1  \n",
       "2   1/01/2010  MASCULINO      ADULTOS         1  \n",
       "3   1/01/2010   FEMENINO      ADULTOS         1  \n",
       "4   1/01/2010   FEMENINO      ADULTOS         1  "
      ]
     },
     "execution_count": 2,
     "metadata": {},
     "output_type": "execute_result"
    }
   ],
   "source": [
    "# Carga de los datos\n",
    "\n",
    "df = pd.read_csv('Reporte_Delito_Violencia_Intrafamiliar_Polic_a_Nacional.csv', low_memory=False)\n",
    "df.head()"
   ]
  },
  {
   "cell_type": "code",
   "execution_count": 3,
   "id": "f2d0c9bf",
   "metadata": {},
   "outputs": [
    {
     "data": {
      "text/plain": [
       "Index(['DEPARTAMENTO', 'MUNICIPIO', 'CODIGO DANE', 'ARMAS MEDIOS',\n",
       "       'FECHA HECHO', 'GENERO', 'GRUPO ETARIO', 'CANTIDAD'],\n",
       "      dtype='object')"
      ]
     },
     "execution_count": 3,
     "metadata": {},
     "output_type": "execute_result"
    }
   ],
   "source": [
    "# Cambiar nombre de las columnas (eliminar espacio en blanco)\n",
    "\n",
    "df.columns"
   ]
  },
  {
   "cell_type": "code",
   "execution_count": 4,
   "id": "fedd643d",
   "metadata": {},
   "outputs": [
    {
     "name": "stdout",
     "output_type": "stream",
     "text": [
      "Index(['DEPARTAMENTO', 'MUNICIPIO', 'CODIGO_DANE', 'ARMAS_MEDIO', 'FECHA',\n",
      "       'GENERO', 'GRUPO_ETARIO', 'CANTIDAD'],\n",
      "      dtype='object')\n"
     ]
    },
    {
     "data": {
      "text/html": [
       "<div>\n",
       "<style scoped>\n",
       "    .dataframe tbody tr th:only-of-type {\n",
       "        vertical-align: middle;\n",
       "    }\n",
       "\n",
       "    .dataframe tbody tr th {\n",
       "        vertical-align: top;\n",
       "    }\n",
       "\n",
       "    .dataframe thead th {\n",
       "        text-align: right;\n",
       "    }\n",
       "</style>\n",
       "<table border=\"1\" class=\"dataframe\">\n",
       "  <thead>\n",
       "    <tr style=\"text-align: right;\">\n",
       "      <th></th>\n",
       "      <th>DEPARTAMENTO</th>\n",
       "      <th>MUNICIPIO</th>\n",
       "      <th>CODIGO_DANE</th>\n",
       "      <th>ARMAS_MEDIO</th>\n",
       "      <th>FECHA</th>\n",
       "      <th>GENERO</th>\n",
       "      <th>GRUPO_ETARIO</th>\n",
       "      <th>CANTIDAD</th>\n",
       "    </tr>\n",
       "  </thead>\n",
       "  <tbody>\n",
       "    <tr>\n",
       "      <th>0</th>\n",
       "      <td>ATLÁNTICO</td>\n",
       "      <td>BARRANQUILLA (CT)</td>\n",
       "      <td>8001000</td>\n",
       "      <td>ARMA BLANCA / CORTOPUNZANTE</td>\n",
       "      <td>1/01/2010</td>\n",
       "      <td>MASCULINO</td>\n",
       "      <td>ADULTOS</td>\n",
       "      <td>1</td>\n",
       "    </tr>\n",
       "    <tr>\n",
       "      <th>1</th>\n",
       "      <td>BOYACÁ</td>\n",
       "      <td>DUITAMA</td>\n",
       "      <td>15238000</td>\n",
       "      <td>ARMA BLANCA / CORTOPUNZANTE</td>\n",
       "      <td>1/01/2010</td>\n",
       "      <td>FEMENINO</td>\n",
       "      <td>ADULTOS</td>\n",
       "      <td>1</td>\n",
       "    </tr>\n",
       "    <tr>\n",
       "      <th>2</th>\n",
       "      <td>CAQUETÁ</td>\n",
       "      <td>PUERTO RICO</td>\n",
       "      <td>18592000</td>\n",
       "      <td>ARMA BLANCA / CORTOPUNZANTE</td>\n",
       "      <td>1/01/2010</td>\n",
       "      <td>MASCULINO</td>\n",
       "      <td>ADULTOS</td>\n",
       "      <td>1</td>\n",
       "    </tr>\n",
       "    <tr>\n",
       "      <th>3</th>\n",
       "      <td>CASANARE</td>\n",
       "      <td>MANÍ</td>\n",
       "      <td>85139000</td>\n",
       "      <td>ARMA BLANCA / CORTOPUNZANTE</td>\n",
       "      <td>1/01/2010</td>\n",
       "      <td>FEMENINO</td>\n",
       "      <td>ADULTOS</td>\n",
       "      <td>1</td>\n",
       "    </tr>\n",
       "    <tr>\n",
       "      <th>4</th>\n",
       "      <td>CUNDINAMARCA</td>\n",
       "      <td>BOGOTÁ D.C. (CT)</td>\n",
       "      <td>11001000</td>\n",
       "      <td>ARMA BLANCA / CORTOPUNZANTE</td>\n",
       "      <td>1/01/2010</td>\n",
       "      <td>FEMENINO</td>\n",
       "      <td>ADULTOS</td>\n",
       "      <td>1</td>\n",
       "    </tr>\n",
       "  </tbody>\n",
       "</table>\n",
       "</div>"
      ],
      "text/plain": [
       "   DEPARTAMENTO          MUNICIPIO CODIGO_DANE                  ARMAS_MEDIO  \\\n",
       "0     ATLÁNTICO  BARRANQUILLA (CT)     8001000  ARMA BLANCA / CORTOPUNZANTE   \n",
       "1        BOYACÁ            DUITAMA    15238000  ARMA BLANCA / CORTOPUNZANTE   \n",
       "2       CAQUETÁ        PUERTO RICO    18592000  ARMA BLANCA / CORTOPUNZANTE   \n",
       "3      CASANARE               MANÍ    85139000  ARMA BLANCA / CORTOPUNZANTE   \n",
       "4  CUNDINAMARCA   BOGOTÁ D.C. (CT)    11001000  ARMA BLANCA / CORTOPUNZANTE   \n",
       "\n",
       "       FECHA     GENERO GRUPO_ETARIO  CANTIDAD  \n",
       "0  1/01/2010  MASCULINO      ADULTOS         1  \n",
       "1  1/01/2010   FEMENINO      ADULTOS         1  \n",
       "2  1/01/2010  MASCULINO      ADULTOS         1  \n",
       "3  1/01/2010   FEMENINO      ADULTOS         1  \n",
       "4  1/01/2010   FEMENINO      ADULTOS         1  "
      ]
     },
     "execution_count": 4,
     "metadata": {},
     "output_type": "execute_result"
    }
   ],
   "source": [
    "df.rename(columns={'CODIGO DANE' :'CODIGO_DANE',\n",
    "                   'ARMAS MEDIOS':'ARMAS_MEDIO',\n",
    "                   'FECHA HECHO' :'FECHA',\n",
    "                   'GRUPO ETARIO':'GRUPO_ETARIO'}, inplace=True);\n",
    "\n",
    "print(df.columns)\n",
    "df.head()"
   ]
  },
  {
   "cell_type": "code",
   "execution_count": 5,
   "id": "a639f621",
   "metadata": {
    "scrolled": true
   },
   "outputs": [
    {
     "name": "stdout",
     "output_type": "stream",
     "text": [
      "<class 'pandas.core.frame.DataFrame'>\n",
      "RangeIndex: 476970 entries, 0 to 476969\n",
      "Data columns (total 8 columns):\n",
      " #   Column        Non-Null Count   Dtype \n",
      "---  ------        --------------   ----- \n",
      " 0   DEPARTAMENTO  476970 non-null  object\n",
      " 1   MUNICIPIO     476970 non-null  object\n",
      " 2   CODIGO_DANE   476970 non-null  object\n",
      " 3   ARMAS_MEDIO   476968 non-null  object\n",
      " 4   FECHA         476970 non-null  object\n",
      " 5   GENERO        476967 non-null  object\n",
      " 6   GRUPO_ETARIO  475355 non-null  object\n",
      " 7   CANTIDAD      476970 non-null  int64 \n",
      "dtypes: int64(1), object(7)\n",
      "memory usage: 29.1+ MB\n"
     ]
    }
   ],
   "source": [
    "df.info()"
   ]
  },
  {
   "cell_type": "code",
   "execution_count": 6,
   "id": "ed4c67fb",
   "metadata": {},
   "outputs": [
    {
     "data": {
      "text/plain": [
       "DEPARTAMENTO       0\n",
       "MUNICIPIO          0\n",
       "CODIGO_DANE        0\n",
       "ARMAS_MEDIO        2\n",
       "FECHA              0\n",
       "GENERO             3\n",
       "GRUPO_ETARIO    1615\n",
       "CANTIDAD           0\n",
       "dtype: int64"
      ]
     },
     "execution_count": 6,
     "metadata": {},
     "output_type": "execute_result"
    }
   ],
   "source": [
    "# Consultar valores nulos\n",
    "df.isnull().sum()"
   ]
  },
  {
   "cell_type": "code",
   "execution_count": 7,
   "id": "824f0a97",
   "metadata": {},
   "outputs": [
    {
     "name": "stdout",
     "output_type": "stream",
     "text": [
      "ADULTOS: 420237\n",
      "ADOLESCENTES: 28396\n",
      "MENORES: 26448\n",
      "NO REPORTA: 274\n"
     ]
    },
    {
     "data": {
      "image/png": "[encoded data removed]",
      "text/plain": [
       "<Figure size 504x360 with 1 Axes>"
      ]
     },
     "metadata": {
      "needs_background": "light"
     },
     "output_type": "display_data"
    }
   ],
   "source": [
    "# Reemplazar valores faltantes por la moda de cada columna.\n",
    "# El grupo etario es el parámetro crítico a este respecto\n",
    "\n",
    "valores_unicos_GEtario = df['GRUPO_ETARIO'].value_counts()\n",
    "\n",
    "for index in valores_unicos_GEtario.index:\n",
    "    print(f'{index}: {valores_unicos_GEtario[index]}') \n",
    "\n",
    "plt.figure(figsize=(7, 5))\n",
    "(100*valores_unicos_GEtario/valores_unicos_GEtario.sum()).plot(kind='bar', color='green')\n",
    "plt.title('Frecuencia de valores únicos de la columna \"GRUPO_ETARIO\"')\n",
    "plt.xlabel('Categoria')\n",
    "plt.ylabel('Frecuencia en %')\n",
    "plt.grid()\n",
    "plt.show();"
   ]
  },
  {
   "cell_type": "code",
   "execution_count": 8,
   "id": "9492ee14",
   "metadata": {},
   "outputs": [
    {
     "data": {
      "text/plain": [
       "DEPARTAMENTO    0\n",
       "MUNICIPIO       0\n",
       "CODIGO_DANE     0\n",
       "ARMAS_MEDIO     0\n",
       "FECHA           0\n",
       "GENERO          0\n",
       "GRUPO_ETARIO    0\n",
       "CANTIDAD        0\n",
       "dtype: int64"
      ]
     },
     "execution_count": 8,
     "metadata": {},
     "output_type": "execute_result"
    }
   ],
   "source": [
    "# Dado que la la categoría \"ADULTOS\" representa casi el 90% de los valores en \"GRUPO_ETARIO\", resulta apropiado\n",
    "# reemplazar los valores faltantes por la moda\n",
    "\n",
    "for columna in df.columns:\n",
    "    df[columna].fillna(df[columna].mode()[0], inplace = True)\n",
    "\n",
    "# En la columna \"GRUPO_ETARIO\" también reemplazaré los valores \"NO REPORTA\" por la media\n",
    "moda_grupoEtario = df['GRUPO_ETARIO'].mode()[0]\n",
    "df.loc[df['GRUPO_ETARIO'] == 'NO REPORTA', 'GRUPO_ETARIO'] = moda_grupoEtario\n",
    "\n",
    "df.isnull().sum()"
   ]
  },
  {
   "cell_type": "code",
   "execution_count": 9,
   "id": "97cbf0a9",
   "metadata": {},
   "outputs": [
    {
     "name": "stdout",
     "output_type": "stream",
     "text": [
      "ADULTOS: 422126\n",
      "ADOLESCENTES: 28396\n",
      "MENORES: 26448\n"
     ]
    },
    {
     "data": {
      "image/png": "[encoded data removed]",
      "text/plain": [
       "<Figure size 504x360 with 1 Axes>"
      ]
     },
     "metadata": {
      "needs_background": "light"
     },
     "output_type": "display_data"
    }
   ],
   "source": [
    "valores_unicos_GEtario = df['GRUPO_ETARIO'].value_counts()\n",
    "\n",
    "for index in valores_unicos_GEtario.index:\n",
    "    print(f'{index}: {valores_unicos_GEtario[index]}')\n",
    "\n",
    "plt.figure(figsize=(7, 5))\n",
    "df['GRUPO_ETARIO'].value_counts().plot(kind='bar', color='skyblue')\n",
    "plt.title('Frecuencia de valores únicos de la columna \"GRUPO_ETARIO\"')\n",
    "plt.xlabel('Categoria')\n",
    "plt.ylabel('Frecuencia')\n",
    "plt.grid()\n",
    "plt.show();"
   ]
  },
  {
   "cell_type": "code",
   "execution_count": 10,
   "id": "8de99566",
   "metadata": {},
   "outputs": [
    {
     "data": {
      "text/html": [
       "<div>\n",
       "<style scoped>\n",
       "    .dataframe tbody tr th:only-of-type {\n",
       "        vertical-align: middle;\n",
       "    }\n",
       "\n",
       "    .dataframe tbody tr th {\n",
       "        vertical-align: top;\n",
       "    }\n",
       "\n",
       "    .dataframe thead th {\n",
       "        text-align: right;\n",
       "    }\n",
       "</style>\n",
       "<table border=\"1\" class=\"dataframe\">\n",
       "  <thead>\n",
       "    <tr style=\"text-align: right;\">\n",
       "      <th></th>\n",
       "      <th>DEPARTAMENTO</th>\n",
       "      <th>MUNICIPIO</th>\n",
       "      <th>CODIGO_DANE</th>\n",
       "      <th>ARMAS_MEDIO</th>\n",
       "      <th>FECHA</th>\n",
       "      <th>GENERO</th>\n",
       "      <th>GRUPO_ETARIO</th>\n",
       "    </tr>\n",
       "  </thead>\n",
       "  <tbody>\n",
       "    <tr>\n",
       "      <th>count</th>\n",
       "      <td>476970</td>\n",
       "      <td>476970</td>\n",
       "      <td>476970</td>\n",
       "      <td>476970</td>\n",
       "      <td>476970</td>\n",
       "      <td>476970</td>\n",
       "      <td>476970</td>\n",
       "    </tr>\n",
       "    <tr>\n",
       "      <th>unique</th>\n",
       "      <td>33</td>\n",
       "      <td>1022</td>\n",
       "      <td>1102</td>\n",
       "      <td>11</td>\n",
       "      <td>4176</td>\n",
       "      <td>4</td>\n",
       "      <td>3</td>\n",
       "    </tr>\n",
       "    <tr>\n",
       "      <th>top</th>\n",
       "      <td>CUNDINAMARCA</td>\n",
       "      <td>BOGOTÁ D.C. (CT)</td>\n",
       "      <td>11001000</td>\n",
       "      <td>CONTUNDENTES</td>\n",
       "      <td>1/01/2020</td>\n",
       "      <td>FEMENINO</td>\n",
       "      <td>ADULTOS</td>\n",
       "    </tr>\n",
       "    <tr>\n",
       "      <th>freq</th>\n",
       "      <td>88100</td>\n",
       "      <td>53792</td>\n",
       "      <td>53792</td>\n",
       "      <td>244947</td>\n",
       "      <td>860</td>\n",
       "      <td>366910</td>\n",
       "      <td>422126</td>\n",
       "    </tr>\n",
       "  </tbody>\n",
       "</table>\n",
       "</div>"
      ],
      "text/plain": [
       "        DEPARTAMENTO         MUNICIPIO CODIGO_DANE   ARMAS_MEDIO      FECHA  \\\n",
       "count         476970            476970      476970        476970     476970   \n",
       "unique            33              1022        1102            11       4176   \n",
       "top     CUNDINAMARCA  BOGOTÁ D.C. (CT)    11001000  CONTUNDENTES  1/01/2020   \n",
       "freq           88100             53792       53792        244947        860   \n",
       "\n",
       "          GENERO GRUPO_ETARIO  \n",
       "count     476970       476970  \n",
       "unique         4            3  \n",
       "top     FEMENINO      ADULTOS  \n",
       "freq      366910       422126  "
      ]
     },
     "execution_count": 10,
     "metadata": {},
     "output_type": "execute_result"
    }
   ],
   "source": [
    "# Exploración\n",
    "df[['DEPARTAMENTO','MUNICIPIO','CODIGO_DANE','ARMAS_MEDIO','FECHA','GENERO','GRUPO_ETARIO']].describe()"
   ]
  },
  {
   "cell_type": "code",
   "execution_count": 11,
   "id": "b916af31",
   "metadata": {},
   "outputs": [
    {
     "data": {
      "text/plain": [
       "FEMENINO      76.925173\n",
       "MASCULINO     23.011720\n",
       "NO REPORTA     0.061639\n",
       "-              0.001468\n",
       "Name: GENERO, dtype: float64"
      ]
     },
     "execution_count": 11,
     "metadata": {},
     "output_type": "execute_result"
    }
   ],
   "source": [
    "# Explorar 'GENERO'\n",
    "\n",
    "100*df['GENERO'].value_counts()/df['GENERO'].value_counts().sum() # Géneros por porcentaje"
   ]
  },
  {
   "cell_type": "code",
   "execution_count": 12,
   "id": "9539f363",
   "metadata": {},
   "outputs": [
    {
     "name": "stdout",
     "output_type": "stream",
     "text": [
      "FEMENINO     367211\n",
      "MASCULINO    109759\n",
      "Name: GENERO, dtype: int64\n"
     ]
    },
    {
     "data": {
      "text/plain": [
       "FEMENINO     76.98828\n",
       "MASCULINO    23.01172\n",
       "Name: GENERO, dtype: float64"
      ]
     },
     "execution_count": 12,
     "metadata": {},
     "output_type": "execute_result"
    }
   ],
   "source": [
    "# Dada la baja proporción que representa \"NO REPORTA\" y \"-\", reemplazaré estos datos con la moda de la columna\n",
    "moda_genero = df['GENERO'].mode()[0]\n",
    "df.loc[df['GENERO'] == 'NO REPORTA', 'GENERO'] = moda_genero\n",
    "df.loc[df['GENERO'] == '-', 'GENERO'] = moda_genero\n",
    "print(df['GENERO'].value_counts())\n",
    "100*df['GENERO'].value_counts()/df['GENERO'].value_counts().sum() # Géneros por porcentaje"
   ]
  },
  {
   "cell_type": "code",
   "execution_count": 13,
   "id": "cd39b082",
   "metadata": {},
   "outputs": [
    {
     "name": "stdout",
     "output_type": "stream",
     "text": [
      "CUNDINAMARCA          88100\n",
      "ANTIOQUIA             57288\n",
      "VALLE                 44909\n",
      "SANTANDER             38493\n",
      "BOYACÁ                26920\n",
      "ATLÁNTICO             17516\n",
      "TOLIMA                17007\n",
      "HUILA                 16547\n",
      "META                  16223\n",
      "BOLÍVAR               15954\n",
      "NORTE DE SANTANDER    14919\n",
      "RISARALDA             14381\n",
      "NARIÑO                14373\n",
      "CAUCA                 13947\n",
      "CÓRDOBA               10800\n",
      "SUCRE                  9745\n",
      "MAGDALENA              9691\n",
      "CALDAS                 8742\n",
      "CESAR                  7109\n",
      "CASANARE               6418\n",
      "CAQUETÁ                4857\n",
      "QUINDÍO                4800\n",
      "GUAJIRA                4434\n",
      "ARAUCA                 3852\n",
      "PUTUMAYO               3104\n",
      "CHOCÓ                  2071\n",
      "AMAZONAS               1408\n",
      "SAN ANDRÉS             1155\n",
      "GUAVIARE                886\n",
      "GUAINÍA                 518\n",
      "VICHADA                 424\n",
      "VAUPÉS                  373\n",
      "NO REPORTA                6\n",
      "Name: DEPARTAMENTO, dtype: int64 \n",
      "\n",
      "BOGOTÁ D.C. (CT)         53792\n",
      "MEDELLÍN (CT)            22032\n",
      "CALI (CT)                18958\n",
      "BUCARAMANGA (CT)         10420\n",
      "VILLAVICENCIO (CT)        9675\n",
      "                         ...  \n",
      "CEPITÁ                       3\n",
      "SIPÍ                         3\n",
      "SAN JACINTO DEL CAUCA        2\n",
      "ZAPAYÁN                      1\n",
      "BOJAYÁ                       1\n",
      "Name: MUNICIPIO, Length: 1022, dtype: int64 \n",
      "\n",
      "11001000    53792\n",
      "5001000     22032\n",
      "76001000    18958\n",
      "68001000    10420\n",
      "50001000     9675\n",
      "            ...  \n",
      "68160000        3\n",
      "68370000        3\n",
      "13655000        2\n",
      "47960000        1\n",
      "27099000        1\n",
      "Name: CODIGO_DANE, Length: 1102, dtype: int64 \n",
      "\n",
      "CONTUNDENTES                   244947\n",
      "SIN EMPLEO DE ARMAS            108785\n",
      "NO REPORTADO                    71921\n",
      "ARMA BLANCA / CORTOPUNZANTE     38070\n",
      "NO REPORTA                       4421\n",
      "ESCOPOLAMINA                     3863\n",
      "ARMA DE FUEGO                    2323\n",
      "CORTOPUNZANTES                   1167\n",
      "CORTANTES                        1138\n",
      "PUNZANTES                         334\n",
      "-                                   1\n",
      "Name: ARMAS_MEDIO, dtype: int64 \n",
      "\n",
      "1/01/2020     860\n",
      "1/03/2020     662\n",
      "8/03/2020     637\n",
      "2/02/2020     590\n",
      "16/02/2020    589\n",
      "             ... \n",
      "44250           1\n",
      "44262           1\n",
      "44300           1\n",
      "44294           1\n",
      "44245           1\n",
      "Name: FECHA, Length: 4176, dtype: int64 \n",
      "\n",
      "FEMENINO     367211\n",
      "MASCULINO    109759\n",
      "Name: GENERO, dtype: int64 \n",
      "\n",
      "ADULTOS         422126\n",
      "ADOLESCENTES     28396\n",
      "MENORES          26448\n",
      "Name: GRUPO_ETARIO, dtype: int64 \n",
      "\n",
      "1      378817\n",
      "2       50176\n",
      "3       18154\n",
      "4        8901\n",
      "5        5104\n",
      "        ...  \n",
      "89          1\n",
      "88          1\n",
      "118         1\n",
      "105         1\n",
      "84          1\n",
      "Name: CANTIDAD, Length: 102, dtype: int64 \n",
      "\n"
     ]
    }
   ],
   "source": [
    "# Explorar las columnas restantes\n",
    "\n",
    "for columna in df.columns:\n",
    "    print(df[columna].value_counts(), '\\n')"
   ]
  },
  {
   "cell_type": "code",
   "execution_count": 14,
   "id": "72d6f4ed",
   "metadata": {
    "scrolled": true
   },
   "outputs": [
    {
     "name": "stdout",
     "output_type": "stream",
     "text": [
      "CUNDINAMARCA          88106\n",
      "ANTIOQUIA             57288\n",
      "VALLE                 44909\n",
      "SANTANDER             38493\n",
      "BOYACÁ                26920\n",
      "ATLÁNTICO             17516\n",
      "TOLIMA                17007\n",
      "HUILA                 16547\n",
      "META                  16223\n",
      "BOLÍVAR               15954\n",
      "NORTE DE SANTANDER    14919\n",
      "RISARALDA             14381\n",
      "NARIÑO                14373\n",
      "CAUCA                 13947\n",
      "CÓRDOBA               10800\n",
      "SUCRE                  9745\n",
      "MAGDALENA              9691\n",
      "CALDAS                 8742\n",
      "CESAR                  7109\n",
      "CASANARE               6418\n",
      "CAQUETÁ                4857\n",
      "QUINDÍO                4800\n",
      "GUAJIRA                4434\n",
      "ARAUCA                 3852\n",
      "PUTUMAYO               3104\n",
      "CHOCÓ                  2071\n",
      "AMAZONAS               1408\n",
      "SAN ANDRÉS             1155\n",
      "GUAVIARE                886\n",
      "GUAINÍA                 518\n",
      "VICHADA                 424\n",
      "VAUPÉS                  373\n",
      "Name: DEPARTAMENTO, dtype: int64 \n",
      "\n",
      "BOGOTÁ D.C. (CT)         53800\n",
      "MEDELLÍN (CT)            22032\n",
      "CALI (CT)                18958\n",
      "BUCARAMANGA (CT)         10420\n",
      "VILLAVICENCIO (CT)        9675\n",
      "                         ...  \n",
      "SÁCAMA                       3\n",
      "JORDÁN                       3\n",
      "SAN JACINTO DEL CAUCA        2\n",
      "ZAPAYÁN                      1\n",
      "BOJAYÁ                       1\n",
      "Name: MUNICIPIO, Length: 1021, dtype: int64 \n",
      "\n",
      "11001000    53800\n",
      "5001000     22032\n",
      "76001000    18958\n",
      "68001000    10420\n",
      "50001000     9675\n",
      "            ...  \n",
      "68160000        3\n",
      "52565000        3\n",
      "13655000        2\n",
      "47960000        1\n",
      "27099000        1\n",
      "Name: CODIGO_DANE, Length: 1101, dtype: int64 \n",
      "\n",
      "CONTUNDENTES                   249369\n",
      "SIN EMPLEO DE ARMAS            108785\n",
      "NO REPORTADO                    71921\n",
      "ARMA BLANCA / CORTOPUNZANTE     38070\n",
      "ESCOPOLAMINA                     3863\n",
      "ARMA DE FUEGO                    2323\n",
      "CORTOPUNZANTES                   1167\n",
      "CORTANTES                        1138\n",
      "PUNZANTES                         334\n",
      "Name: ARMAS_MEDIO, dtype: int64 \n",
      "\n",
      "1/01/2020     860\n",
      "1/03/2020     662\n",
      "8/03/2020     637\n",
      "2/02/2020     590\n",
      "16/02/2020    589\n",
      "             ... \n",
      "44250           1\n",
      "44262           1\n",
      "44300           1\n",
      "44294           1\n",
      "44245           1\n",
      "Name: FECHA, Length: 4176, dtype: int64 \n",
      "\n",
      "FEMENINO     367211\n",
      "MASCULINO    109759\n",
      "Name: GENERO, dtype: int64 \n",
      "\n",
      "ADULTOS         422126\n",
      "ADOLESCENTES     28396\n",
      "MENORES          26448\n",
      "Name: GRUPO_ETARIO, dtype: int64 \n",
      "\n",
      "1      378817\n",
      "2       50176\n",
      "3       18154\n",
      "4        8901\n",
      "5        5104\n",
      "        ...  \n",
      "89          1\n",
      "88          1\n",
      "118         1\n",
      "105         1\n",
      "84          1\n",
      "Name: CANTIDAD, Length: 102, dtype: int64 \n",
      "\n"
     ]
    }
   ],
   "source": [
    "# Reemplazar los \"NO REPORTA\" y \"-\" por la moda en las columnas restantes\n",
    "\n",
    "for columna in df.columns:\n",
    "    moda = df[columna].mode()[0]\n",
    "    df.loc[df[columna] == 'NO REPORTA', columna] = moda\n",
    "    df.loc[df[columna] == '-', columna] = moda\n",
    "    print(df[columna].value_counts(), '\\n')"
   ]
  },
  {
   "cell_type": "code",
   "execution_count": 15,
   "id": "fc058a02",
   "metadata": {},
   "outputs": [
    {
     "name": "stdout",
     "output_type": "stream",
     "text": [
      "El porcentaje de casos donde se reportan 10 afectados es 0.122%\n",
      "\n"
     ]
    },
    {
     "data": {
      "image/png": "[encoded data removed]",
      "text/plain": [
       "<Figure size 1080x576 with 1 Axes>"
      ]
     },
     "metadata": {
      "needs_background": "light"
     },
     "output_type": "display_data"
    }
   ],
   "source": [
    "# Eliminación de Outliers: no tiene sentido que un caso de violencia doméstica involucre a más de 10 personas.\n",
    "# Exploremos la columna 'CANTIDAD' para obtener una mejor visión de posibles errores\n",
    "\n",
    "total_casos = df['CANTIDAD'].sum()\n",
    "distribucion_cantidad = []\n",
    "limite = 30\n",
    "for cantidad in range(1, limite+1):\n",
    "    cntd = 100*df[df['CANTIDAD'] == cantidad]['CANTIDAD'].count()/total_casos\n",
    "    distribucion_cantidad.append(cntd)\n",
    "\n",
    "print(f'El porcentaje de casos donde se reportan 10 afectados es {round(distribucion_cantidad[9], 3)}%\\n')\n",
    "\n",
    "# Zona de gráficos\n",
    "plt.figure(figsize=(15, 8))\n",
    "plt.xlabel('Número de afectados en cada evento violento reportado')\n",
    "plt.xticks(range(1, limite+1))\n",
    "plt.ylabel('Porcentaje representativo del total (%)')\n",
    "plt.yticks(range(0, int(max(distribucion_cantidad)), 5))\n",
    "plt.title('GRÁFICA DE FRECUENCIA DEL NÚMERO DE AFECTADOS')\n",
    "plt.grid()\n",
    "plt.bar(range(1, len(distribucion_cantidad)+1), distribucion_cantidad);\n",
    "#plt.bar(range(len(distribucion_cantidad)), distribucion_cantidad);"
   ]
  },
  {
   "cell_type": "markdown",
   "id": "5bdf441b",
   "metadata": {},
   "source": [
    "Se puede decir, pues, que los eventos de violencia doméstica en los cuales resultan más de 10 involucrados pueden ser considerados como Outliers (quizas debido a errores de digitación). Dado que tales casos representan solo una fracción del total, no hay problema en suprimirlos del dataframe y no considerarlos en análisis posteriores."
   ]
  },
  {
   "cell_type": "code",
   "execution_count": 16,
   "id": "41a12515",
   "metadata": {},
   "outputs": [
    {
     "name": "stdout",
     "output_type": "stream",
     "text": [
      "<class 'pandas.core.frame.DataFrame'>\n",
      "RangeIndex: 470529 entries, 0 to 470528\n",
      "Data columns (total 8 columns):\n",
      " #   Column        Non-Null Count   Dtype \n",
      "---  ------        --------------   ----- \n",
      " 0   DEPARTAMENTO  470529 non-null  object\n",
      " 1   MUNICIPIO     470529 non-null  object\n",
      " 2   CODIGO_DANE   470529 non-null  object\n",
      " 3   ARMAS_MEDIO   470529 non-null  object\n",
      " 4   FECHA         470529 non-null  object\n",
      " 5   GENERO        470529 non-null  object\n",
      " 6   GRUPO_ETARIO  470529 non-null  object\n",
      " 7   CANTIDAD      470529 non-null  int64 \n",
      "dtypes: int64(1), object(7)\n",
      "memory usage: 28.7+ MB\n"
     ]
    }
   ],
   "source": [
    "# Eliminación de Outliers\n",
    "\n",
    "df = df.query('CANTIDAD <= 10').reset_index(drop=True)\n",
    "df.info()"
   ]
  },
  {
   "cell_type": "code",
   "execution_count": 17,
   "id": "54b754cb",
   "metadata": {},
   "outputs": [
    {
     "name": "stdout",
     "output_type": "stream",
     "text": [
      "DEPARTAMENTO            object\n",
      "MUNICIPIO               object\n",
      "CODIGO_DANE             object\n",
      "ARMAS_MEDIO             object\n",
      "FECHA           datetime64[ns]\n",
      "GENERO                  object\n",
      "GRUPO_ETARIO            object\n",
      "CANTIDAD                 int64\n",
      "dtype: object\n"
     ]
    }
   ],
   "source": [
    "# Cambiar el formato de las fechas\n",
    "\n",
    "#import pandas as pd\n",
    "\n",
    "# Función para convertir fechas\n",
    "def convertir_fecha(fecha):\n",
    "    try:\n",
    "        # Intentar convertir directamente usando el formato específico\n",
    "        return pd.to_datetime(fecha, format='%d/%m/%Y')\n",
    "    except ValueError:\n",
    "        try:\n",
    "            # Si falla, asumir que es un número de fecha serial de Excel y convertirlo\n",
    "            return pd.to_datetime('1899-12-30') + pd.to_timedelta(int(fecha), unit='D')\n",
    "        except ValueError:\n",
    "            # Manejo de otros posibles errores o datos corruptos\n",
    "            return pd.NaT\n",
    "\n",
    "'''# Crear un DataFrame de ejemplo con fechas en diferentes formatos\n",
    "df = pd.DataFrame({\n",
    "    'FECHA': ['01/12/2020', '15/01/2021', '23/03/2021', '44335']\n",
    "})'''\n",
    "\n",
    "# Aplicar la función de conversión a la columna 'FECHA'\n",
    "df['FECHA'] = df['FECHA'].apply(convertir_fecha)\n",
    "\n",
    "#print(df)\n",
    "print(df.dtypes)\n"
   ]
  },
  {
   "cell_type": "code",
   "execution_count": 18,
   "id": "4b0ef2e6",
   "metadata": {},
   "outputs": [
    {
     "data": {
      "text/plain": [
       "2020-01-01    860\n",
       "2020-03-01    662\n",
       "2020-03-08    637\n",
       "2020-02-02    590\n",
       "2020-02-16    589\n",
       "             ... \n",
       "2010-12-23     17\n",
       "2011-12-31     16\n",
       "2013-12-28     14\n",
       "2010-12-03     14\n",
       "2010-12-30     13\n",
       "Name: FECHA, Length: 4169, dtype: int64"
      ]
     },
     "execution_count": 18,
     "metadata": {},
     "output_type": "execute_result"
    }
   ],
   "source": [
    "df['FECHA'].value_counts()"
   ]
  },
  {
   "cell_type": "code",
   "execution_count": 19,
   "id": "be76dc73",
   "metadata": {},
   "outputs": [
    {
     "data": {
      "text/html": [
       "<div>\n",
       "<style scoped>\n",
       "    .dataframe tbody tr th:only-of-type {\n",
       "        vertical-align: middle;\n",
       "    }\n",
       "\n",
       "    .dataframe tbody tr th {\n",
       "        vertical-align: top;\n",
       "    }\n",
       "\n",
       "    .dataframe thead th {\n",
       "        text-align: right;\n",
       "    }\n",
       "</style>\n",
       "<table border=\"1\" class=\"dataframe\">\n",
       "  <thead>\n",
       "    <tr style=\"text-align: right;\">\n",
       "      <th></th>\n",
       "      <th>DEPARTAMENTO</th>\n",
       "      <th>MUNICIPIO</th>\n",
       "      <th>CODIGO_DANE</th>\n",
       "      <th>ARMAS_MEDIO</th>\n",
       "      <th>FECHA</th>\n",
       "      <th>GENERO</th>\n",
       "      <th>GRUPO_ETARIO</th>\n",
       "      <th>CANTIDAD</th>\n",
       "    </tr>\n",
       "  </thead>\n",
       "  <tbody>\n",
       "    <tr>\n",
       "      <th>470519</th>\n",
       "      <td>VICHADA</td>\n",
       "      <td>PUERTO CARREÑO (CT)</td>\n",
       "      <td>99001000</td>\n",
       "      <td>SIN EMPLEO DE ARMAS</td>\n",
       "      <td>2021-03-27</td>\n",
       "      <td>FEMENINO</td>\n",
       "      <td>ADULTOS</td>\n",
       "      <td>1</td>\n",
       "    </tr>\n",
       "    <tr>\n",
       "      <th>470520</th>\n",
       "      <td>VICHADA</td>\n",
       "      <td>PUERTO CARREÑO (CT)</td>\n",
       "      <td>99001000</td>\n",
       "      <td>SIN EMPLEO DE ARMAS</td>\n",
       "      <td>2021-04-15</td>\n",
       "      <td>FEMENINO</td>\n",
       "      <td>ADULTOS</td>\n",
       "      <td>1</td>\n",
       "    </tr>\n",
       "    <tr>\n",
       "      <th>470521</th>\n",
       "      <td>VICHADA</td>\n",
       "      <td>PUERTO CARREÑO (CT)</td>\n",
       "      <td>99001000</td>\n",
       "      <td>SIN EMPLEO DE ARMAS</td>\n",
       "      <td>2021-05-19</td>\n",
       "      <td>FEMENINO</td>\n",
       "      <td>ADULTOS</td>\n",
       "      <td>3</td>\n",
       "    </tr>\n",
       "    <tr>\n",
       "      <th>470522</th>\n",
       "      <td>VICHADA</td>\n",
       "      <td>PUERTO CARREÑO (CT)</td>\n",
       "      <td>99001000</td>\n",
       "      <td>SIN EMPLEO DE ARMAS</td>\n",
       "      <td>2021-05-19</td>\n",
       "      <td>MASCULINO</td>\n",
       "      <td>ADULTOS</td>\n",
       "      <td>1</td>\n",
       "    </tr>\n",
       "    <tr>\n",
       "      <th>470523</th>\n",
       "      <td>VICHADA</td>\n",
       "      <td>SANTA ROSALÍA</td>\n",
       "      <td>99624000</td>\n",
       "      <td>SIN EMPLEO DE ARMAS</td>\n",
       "      <td>2021-01-03</td>\n",
       "      <td>FEMENINO</td>\n",
       "      <td>ADULTOS</td>\n",
       "      <td>1</td>\n",
       "    </tr>\n",
       "    <tr>\n",
       "      <th>470524</th>\n",
       "      <td>VICHADA</td>\n",
       "      <td>SANTA ROSALÍA</td>\n",
       "      <td>99624000</td>\n",
       "      <td>SIN EMPLEO DE ARMAS</td>\n",
       "      <td>2021-02-23</td>\n",
       "      <td>FEMENINO</td>\n",
       "      <td>MENORES</td>\n",
       "      <td>1</td>\n",
       "    </tr>\n",
       "    <tr>\n",
       "      <th>470525</th>\n",
       "      <td>VICHADA</td>\n",
       "      <td>SANTA ROSALÍA</td>\n",
       "      <td>99624000</td>\n",
       "      <td>SIN EMPLEO DE ARMAS</td>\n",
       "      <td>2021-03-07</td>\n",
       "      <td>FEMENINO</td>\n",
       "      <td>ADULTOS</td>\n",
       "      <td>1</td>\n",
       "    </tr>\n",
       "    <tr>\n",
       "      <th>470526</th>\n",
       "      <td>VICHADA</td>\n",
       "      <td>SANTA ROSALÍA</td>\n",
       "      <td>99624000</td>\n",
       "      <td>SIN EMPLEO DE ARMAS</td>\n",
       "      <td>2021-04-14</td>\n",
       "      <td>FEMENINO</td>\n",
       "      <td>ADULTOS</td>\n",
       "      <td>1</td>\n",
       "    </tr>\n",
       "    <tr>\n",
       "      <th>470527</th>\n",
       "      <td>CUNDINAMARCA</td>\n",
       "      <td>TAUSA</td>\n",
       "      <td>25793000</td>\n",
       "      <td>CONTUNDENTES</td>\n",
       "      <td>2021-04-08</td>\n",
       "      <td>FEMENINO</td>\n",
       "      <td>ADULTOS</td>\n",
       "      <td>1</td>\n",
       "    </tr>\n",
       "    <tr>\n",
       "      <th>470528</th>\n",
       "      <td>CUNDINAMARCA</td>\n",
       "      <td>ZIPAQUIRÁ</td>\n",
       "      <td>25899000</td>\n",
       "      <td>CONTUNDENTES</td>\n",
       "      <td>2021-02-18</td>\n",
       "      <td>FEMENINO</td>\n",
       "      <td>ADULTOS</td>\n",
       "      <td>1</td>\n",
       "    </tr>\n",
       "  </tbody>\n",
       "</table>\n",
       "</div>"
      ],
      "text/plain": [
       "        DEPARTAMENTO            MUNICIPIO CODIGO_DANE          ARMAS_MEDIO  \\\n",
       "470519       VICHADA  PUERTO CARREÑO (CT)    99001000  SIN EMPLEO DE ARMAS   \n",
       "470520       VICHADA  PUERTO CARREÑO (CT)    99001000  SIN EMPLEO DE ARMAS   \n",
       "470521       VICHADA  PUERTO CARREÑO (CT)    99001000  SIN EMPLEO DE ARMAS   \n",
       "470522       VICHADA  PUERTO CARREÑO (CT)    99001000  SIN EMPLEO DE ARMAS   \n",
       "470523       VICHADA        SANTA ROSALÍA    99624000  SIN EMPLEO DE ARMAS   \n",
       "470524       VICHADA        SANTA ROSALÍA    99624000  SIN EMPLEO DE ARMAS   \n",
       "470525       VICHADA        SANTA ROSALÍA    99624000  SIN EMPLEO DE ARMAS   \n",
       "470526       VICHADA        SANTA ROSALÍA    99624000  SIN EMPLEO DE ARMAS   \n",
       "470527  CUNDINAMARCA                TAUSA    25793000         CONTUNDENTES   \n",
       "470528  CUNDINAMARCA            ZIPAQUIRÁ    25899000         CONTUNDENTES   \n",
       "\n",
       "            FECHA     GENERO GRUPO_ETARIO  CANTIDAD  \n",
       "470519 2021-03-27   FEMENINO      ADULTOS         1  \n",
       "470520 2021-04-15   FEMENINO      ADULTOS         1  \n",
       "470521 2021-05-19   FEMENINO      ADULTOS         3  \n",
       "470522 2021-05-19  MASCULINO      ADULTOS         1  \n",
       "470523 2021-01-03   FEMENINO      ADULTOS         1  \n",
       "470524 2021-02-23   FEMENINO      MENORES         1  \n",
       "470525 2021-03-07   FEMENINO      ADULTOS         1  \n",
       "470526 2021-04-14   FEMENINO      ADULTOS         1  \n",
       "470527 2021-04-08   FEMENINO      ADULTOS         1  \n",
       "470528 2021-02-18   FEMENINO      ADULTOS         1  "
      ]
     },
     "execution_count": 19,
     "metadata": {},
     "output_type": "execute_result"
    }
   ],
   "source": [
    "df.tail(10)"
   ]
  },
  {
   "cell_type": "code",
   "execution_count": 20,
   "id": "dead6b3a",
   "metadata": {},
   "outputs": [
    {
     "data": {
      "text/plain": [
       "'\\nAQUÍ\\nIRÁ\\nEL\\nCÓDIGO\\n\\n'"
      ]
     },
     "execution_count": 20,
     "metadata": {},
     "output_type": "execute_result"
    }
   ],
   "source": [
    "# Guardar dataframe ya limpio en formato csv y en una base de datos\n",
    "'''\n",
    "AQUÍ\n",
    "IRÁ\n",
    "EL\n",
    "CÓDIGO\n",
    "\n",
    "'''"
   ]
  },
  {
   "cell_type": "markdown",
   "id": "7e14bb5e",
   "metadata": {},
   "source": [
    "# Ya está listo el DataFrame. Ahora hay que iniciar el análisis"
   ]
  },
  {
   "cell_type": "markdown",
   "id": "a4ab7cc9",
   "metadata": {},
   "source": [
    "## Exploración de los datos"
   ]
  },
  {
   "cell_type": "markdown",
   "id": "94d31d89",
   "metadata": {},
   "source": [
    "### Distribución temporal de los datos"
   ]
  },
  {
   "cell_type": "code",
   "execution_count": 21,
   "id": "b5af4c5f",
   "metadata": {},
   "outputs": [
    {
     "name": "stdout",
     "output_type": "stream",
     "text": [
      "El PRIMER registro se llevó a cabo en la siguiente fecha: 2010-01-01 00:00:00\n",
      "El ÚLTIMO registro se llevó a cabo en la siguiente fecha: 2021-05-31 00:00:00\n"
     ]
    }
   ],
   "source": [
    "# Exploraré el total de casos (y su tipología) a través de los años\n",
    "\n",
    "print(f'El PRIMER registro se llevó a cabo en la siguiente fecha: {df.FECHA.min()}')\n",
    "print(f'El ÚLTIMO registro se llevó a cabo en la siguiente fecha: {df.FECHA.max()}')"
   ]
  },
  {
   "cell_type": "code",
   "execution_count": 22,
   "id": "16c107bb",
   "metadata": {},
   "outputs": [],
   "source": [
    "total_por_agno = df['FECHA'].dt.year.value_counts().sort_index()"
   ]
  },
  {
   "cell_type": "code",
   "execution_count": 23,
   "id": "56c2b9da",
   "metadata": {},
   "outputs": [
    {
     "name": "stdout",
     "output_type": "stream",
     "text": [
      "2010     15150\n",
      "2011     17012\n",
      "2012     20439\n",
      "2013     21870\n",
      "2014     29735\n",
      "2015     44570\n",
      "2016     49098\n",
      "2017     49753\n",
      "2018     46989\n",
      "2019     51649\n",
      "2020    102286\n",
      "2021     21978\n",
      "Name: FECHA, dtype: int64\n"
     ]
    }
   ],
   "source": [
    "print(total_por_agno)"
   ]
  },
  {
   "cell_type": "code",
   "execution_count": 24,
   "id": "34eead83",
   "metadata": {},
   "outputs": [
    {
     "data": {
      "text/plain": [
       "470529"
      ]
     },
     "execution_count": 24,
     "metadata": {},
     "output_type": "execute_result"
    }
   ],
   "source": [
    "total_por_agno.sum()"
   ]
  },
  {
   "cell_type": "code",
   "execution_count": 25,
   "id": "7342ab43",
   "metadata": {},
   "outputs": [
    {
     "data": {
      "image/png": "[encoded data removed]",
      "text/plain": [
       "<Figure size 432x288 with 1 Axes>"
      ]
     },
     "metadata": {
      "needs_background": "light"
     },
     "output_type": "display_data"
    }
   ],
   "source": [
    "total_por_agno.plot(kind='bar', color='skyblue')\n",
    "plt.grid()"
   ]
  },
  {
   "cell_type": "markdown",
   "id": "bf26b761",
   "metadata": {},
   "source": [
    "Dado que en el último año de registro (2021) no se tienen datos de todos los meses (sólo hasta el mes 05), NO puede decirse que hubo una reducción en los casos para el año 2021. Con el fin de tener más claridad a este respecto, analizaremos el total de casos para cada año, pero sólo hasta el mes 05"
   ]
  },
  {
   "cell_type": "code",
   "execution_count": 26,
   "id": "bfa43ac0",
   "metadata": {},
   "outputs": [
    {
     "name": "stdout",
     "output_type": "stream",
     "text": [
      "2010     7029\n",
      "2011     7509\n",
      "2012     9081\n",
      "2013    10360\n",
      "2014    14682\n",
      "2015    18139\n",
      "2016    21667\n",
      "2017    21401\n",
      "2018    21374\n",
      "2019    19040\n",
      "2020    48213\n",
      "2021    21978\n",
      "Name: FECHA, dtype: int64\n"
     ]
    }
   ],
   "source": [
    "df_hasta_05 = df[df['FECHA'].dt.month <= 5]\n",
    "total_agno_hasta_05 = df_hasta_05['FECHA'].dt.year.value_counts().sort_index()\n",
    "print(total_agno_hasta_05)"
   ]
  },
  {
   "cell_type": "code",
   "execution_count": 27,
   "id": "8c62d4f5",
   "metadata": {},
   "outputs": [
    {
     "data": {
      "image/png": "[encoded data removed]",
      "text/plain": [
       "<Figure size 432x288 with 1 Axes>"
      ]
     },
     "metadata": {
      "needs_background": "light"
     },
     "output_type": "display_data"
    }
   ],
   "source": [
    "total_agno_hasta_05.plot(kind='bar', color='skyblue')\n",
    "plt.grid();"
   ]
  },
  {
   "cell_type": "markdown",
   "id": "8ac49207",
   "metadata": {},
   "source": [
    "CONCLUSIÓN: Efectivamente es de esperarse una reducción de los casos de violencia doméstica para el año 2021 respecto al 2020. El año 2020 es un año atípico en relación al resto de años. Es de esperarse que el año 2021 se comporte como un año típico (según los datos analizados hasta el mes 05).\n",
    "\n",
    "¿Cuál es la razón del dramático aumento en los casos de violencia doméstica en el año 2020? Dicho año 2020 se inició la cuarentena por COVID-19 en Colombia. El confinamiento puede ser un factor que explique el aumento en los casos de violencia.\n",
    "\n",
    "A continuación se estudiará la distribución mensual de los datos, para tener un panorama completo de la distribución temporal de los registros."
   ]
  },
  {
   "cell_type": "code",
   "execution_count": 28,
   "id": "2ad66ea1",
   "metadata": {},
   "outputs": [],
   "source": [
    "# DataFrame dividido por año\n",
    "dfs_por_año = [df[df['FECHA'].dt.year == i] for i in range(df.FECHA.min().year, df.FECHA.max().year)]"
   ]
  },
  {
   "cell_type": "code",
   "execution_count": 29,
   "id": "7b9463ee",
   "metadata": {},
   "outputs": [],
   "source": [
    "# Casos por mes para cada año (de 2010 a 2020)\n",
    "casos_mes_todosAgnos = [tabla['FECHA'].dt.month.value_counts().sort_index() for tabla in dfs_por_año]\n",
    "\n",
    "# Casos por mes para cada año (de 2010 a 2020) NORMALIZADO\n",
    "casos_mes_todosAgnosNORM = [serie.divide(serie.max()) for serie in casos_mes_todosAgnos]"
   ]
  },
  {
   "cell_type": "code",
   "execution_count": 30,
   "id": "44ffd6db",
   "metadata": {},
   "outputs": [
    {
     "data": {
      "text/plain": [
       "1     0.955792\n",
       "2     1.000000\n",
       "3     0.748587\n",
       "4     0.598414\n",
       "5     0.764785\n",
       "6     0.607526\n",
       "7     0.651396\n",
       "8     0.656036\n",
       "9     0.735173\n",
       "10    0.732304\n",
       "11    0.691302\n",
       "12    0.488231\n",
       "Name: FECHA, dtype: float64"
      ]
     },
     "execution_count": 30,
     "metadata": {},
     "output_type": "execute_result"
    }
   ],
   "source": [
    "casos_mes_todosAgnosNORM[-1]"
   ]
  },
  {
   "cell_type": "code",
   "execution_count": 31,
   "id": "4e75190a",
   "metadata": {},
   "outputs": [
    {
     "data": {
      "text/plain": [
       "1     11329\n",
       "2     11853\n",
       "3      8873\n",
       "4      7093\n",
       "5      9065\n",
       "6      7201\n",
       "7      7721\n",
       "8      7776\n",
       "9      8714\n",
       "10     8680\n",
       "11     8194\n",
       "12     5787\n",
       "Name: FECHA, dtype: int64"
      ]
     },
     "execution_count": 31,
     "metadata": {},
     "output_type": "execute_result"
    }
   ],
   "source": [
    "casos_mes_todosAgnos[-1]"
   ]
  },
  {
   "cell_type": "code",
   "execution_count": 32,
   "id": "98a9058f",
   "metadata": {},
   "outputs": [
    {
     "data": {
      "image/png": "[encoded data removed]",
      "text/plain": [
       "<Figure size 1080x864 with 11 Axes>"
      ]
     },
     "metadata": {
      "needs_background": "light"
     },
     "output_type": "display_data"
    }
   ],
   "source": [
    "import numpy as np\n",
    "X = np.linspace(0, 10, 50)\n",
    "plt.figure(figsize=(15, 12))\n",
    "plt.subplots_adjust(wspace=0.2, hspace=0.3)\n",
    "\n",
    "for idx, serie in enumerate(casos_mes_todosAgnosNORM):\n",
    "    plt.subplot(3, 4, idx+1)\n",
    "    plt.bar(serie.index, serie.values)\n",
    "    plt.title(str(2010+idx))\n",
    "    plt.xticks(range(1, 13))\n",
    "    plt.grid()"
   ]
  },
  {
   "cell_type": "code",
   "execution_count": 98,
   "id": "5b8649e6",
   "metadata": {},
   "outputs": [
    {
     "name": "stdout",
     "output_type": "stream",
     "text": [
      "2010 : 2010-01-01 00:00:00\n",
      "2011 : 2011-01-01 00:00:00\n",
      "2012 : 2012-01-01 00:00:00\n",
      "2013 : 2013-01-01 00:00:00\n",
      "2014 : 2014-01-01 00:00:00\n",
      "2015 : 2015-05-10 00:00:00\n",
      "2016 : 2016-01-01 00:00:00\n",
      "2017 : 2017-01-01 00:00:00\n",
      "2018 : 2018-01-01 00:00:00\n",
      "2019 : 2019-01-01 00:00:00\n",
      "2020 : 2020-01-01 00:00:00\n"
     ]
    }
   ],
   "source": [
    "# ¿Cuál es el día más violento de cada año?\n",
    "\n",
    "for idx, tabla in enumerate(dfs_por_año):    \n",
    "    conteo = tabla['FECHA'].value_counts()\n",
    "    print(str(2010 + idx), f': {conteo.idxmax()}')"
   ]
  },
  {
   "cell_type": "markdown",
   "id": "1820c640",
   "metadata": {},
   "source": [
    "Claramente, el primero de enero es el día con mayor número de reportes de violencia doméstica. Esto es debido quizas a las fiestas de fin de año, las cuales van acompañadas de alto consumo de alcohol. La única desviación a este patrón ocurre el año 2015, donde la fecha de mayor reportes de violencia doméstica es el 10 de mayo, el cual fue el día de las madres, la cual es otra fecha que tradicionalmente tiene altas tazas de violencia general."
   ]
  },
  {
   "cell_type": "markdown",
   "id": "77e0a192",
   "metadata": {},
   "source": [
    "### Distribución espacial"
   ]
  },
  {
   "cell_type": "code",
   "execution_count": 99,
   "id": "a97e8dcd",
   "metadata": {},
   "outputs": [],
   "source": [
    "import folium"
   ]
  },
  {
   "cell_type": "code",
   "execution_count": 117,
   "id": "2e0d8540",
   "metadata": {},
   "outputs": [
    {
     "data": {
      "text/html": [
       "<div style=\"width:100%;\"><div style=\"position:relative;width:100%;height:0;padding-bottom:60%;\"><span style=\"color:#565656\">Make this Notebook Trusted to load map: File -> Trust Notebook</span><iframe srcdoc=\"&lt;!DOCTYPE html&gt;\n",
       "&lt;html&gt;\n",
       "&lt;head&gt;\n",
       "    \n",
       "    &lt;meta http-equiv=&quot;content-type&quot; content=&quot;text/html; charset=UTF-8&quot; /&gt;\n",
       "    \n",
       "        &lt;script&gt;\n",
       "            L_NO_TOUCH = false;\n",
       "            L_DISABLE_3D = false;\n",
       "        &lt;/script&gt;\n",
       "    \n",
       "    &lt;style&gt;html, body {width: 100%;height: 100%;margin: 0;padding: 0;}&lt;/style&gt;\n",
       "    &lt;style&gt;#map {position:absolute;top:0;bottom:0;right:0;left:0;}&lt;/style&gt;\n",
       "    &lt;script src=&quot;https://cdn.jsdelivr.net/npm/leaflet@1.9.3/dist/leaflet.js&quot;&gt;&lt;/script&gt;\n",
       "    &lt;script src=&quot;https://code.jquery.com/jquery-3.7.1.min.js&quot;&gt;&lt;/script&gt;\n",
       "    &lt;script src=&quot;https://cdn.jsdelivr.net/npm/bootstrap@5.2.2/dist/js/bootstrap.bundle.min.js&quot;&gt;&lt;/script&gt;\n",
       "    &lt;script src=&quot;https://cdnjs.cloudflare.com/ajax/libs/Leaflet.awesome-markers/2.0.2/leaflet.awesome-markers.js&quot;&gt;&lt;/script&gt;\n",
       "    &lt;link rel=&quot;stylesheet&quot; href=&quot;https://cdn.jsdelivr.net/npm/leaflet@1.9.3/dist/leaflet.css&quot;/&gt;\n",
       "    &lt;link rel=&quot;stylesheet&quot; href=&quot;https://cdn.jsdelivr.net/npm/bootstrap@5.2.2/dist/css/bootstrap.min.css&quot;/&gt;\n",
       "    &lt;link rel=&quot;stylesheet&quot; href=&quot;https://netdna.bootstrapcdn.com/bootstrap/3.0.0/css/bootstrap.min.css&quot;/&gt;\n",
       "    &lt;link rel=&quot;stylesheet&quot; href=&quot;https://cdn.jsdelivr.net/npm/@fortawesome/fontawesome-free@6.2.0/css/all.min.css&quot;/&gt;\n",
       "    &lt;link rel=&quot;stylesheet&quot; href=&quot;https://cdnjs.cloudflare.com/ajax/libs/Leaflet.awesome-markers/2.0.2/leaflet.awesome-markers.css&quot;/&gt;\n",
       "    &lt;link rel=&quot;stylesheet&quot; href=&quot;https://cdn.jsdelivr.net/gh/python-visualization/folium/folium/templates/leaflet.awesome.rotate.min.css&quot;/&gt;\n",
       "    \n",
       "            &lt;meta name=&quot;viewport&quot; content=&quot;width=device-width,\n",
       "                initial-scale=1.0, maximum-scale=1.0, user-scalable=no&quot; /&gt;\n",
       "            &lt;style&gt;\n",
       "                #map_31c758ac89280d069aef55aa6771f939 {\n",
       "                    position: relative;\n",
       "                    width: 100.0%;\n",
       "                    height: 100.0%;\n",
       "                    left: 0.0%;\n",
       "                    top: 0.0%;\n",
       "                }\n",
       "                .leaflet-container { font-size: 1rem; }\n",
       "            &lt;/style&gt;\n",
       "        \n",
       "&lt;/head&gt;\n",
       "&lt;body&gt;\n",
       "    \n",
       "    \n",
       "            &lt;div class=&quot;folium-map&quot; id=&quot;map_31c758ac89280d069aef55aa6771f939&quot; &gt;&lt;/div&gt;\n",
       "        \n",
       "&lt;/body&gt;\n",
       "&lt;script&gt;\n",
       "    \n",
       "    \n",
       "            var map_31c758ac89280d069aef55aa6771f939 = L.map(\n",
       "                &quot;map_31c758ac89280d069aef55aa6771f939&quot;,\n",
       "                {\n",
       "                    center: [4.5709, -74.2973],\n",
       "                    crs: L.CRS.EPSG3857,\n",
       "                    zoom: 5.4,\n",
       "                    zoomControl: true,\n",
       "                    preferCanvas: false,\n",
       "                }\n",
       "            );\n",
       "\n",
       "            \n",
       "\n",
       "        \n",
       "    \n",
       "            var tile_layer_45c4046a1e89515759cd28cf3d08bb2e = L.tileLayer(\n",
       "                &quot;https://tile.openstreetmap.org/{z}/{x}/{y}.png&quot;,\n",
       "                {&quot;attribution&quot;: &quot;\\u0026copy; \\u003ca href=\\&quot;https://www.openstreetmap.org/copyright\\&quot;\\u003eOpenStreetMap\\u003c/a\\u003e contributors&quot;, &quot;detectRetina&quot;: false, &quot;maxNativeZoom&quot;: 19, &quot;maxZoom&quot;: 19, &quot;minZoom&quot;: 0, &quot;noWrap&quot;: false, &quot;opacity&quot;: 1, &quot;subdomains&quot;: &quot;abc&quot;, &quot;tms&quot;: false}\n",
       "            );\n",
       "        \n",
       "    \n",
       "            tile_layer_45c4046a1e89515759cd28cf3d08bb2e.addTo(map_31c758ac89280d069aef55aa6771f939);\n",
       "        \n",
       "&lt;/script&gt;\n",
       "&lt;/html&gt;\" style=\"position:absolute;width:100%;height:100%;left:0;top:0;border:none !important;\" allowfullscreen webkitallowfullscreen mozallowfullscreen></iframe></div></div>"
      ],
      "text/plain": [
       "<folium.folium.Map at 0x26fc8bca9d0>"
      ]
     },
     "execution_count": 117,
     "metadata": {},
     "output_type": "execute_result"
    }
   ],
   "source": [
    "latitud = 4.5709\n",
    "longitud = -74.2973\n",
    "\n",
    "# Crear el mapa centrado en Colombia\n",
    "mapa = folium.Map(location=[latitud, longitud], zoom_start=5.4)\n",
    "\n",
    "#mapa = folium.Map()\n",
    "mapa"
   ]
  },
  {
   "cell_type": "code",
   "execution_count": null,
   "id": "5f49133e",
   "metadata": {},
   "outputs": [],
   "source": []
  }
 ],
 "metadata": {
  "kernelspec": {
   "display_name": "Python 3 (ipykernel)",
   "language": "python",
   "name": "python3"
  },
  "language_info": {
   "codemirror_mode": {
    "name": "ipython",
    "version": 3
   },
   "file_extension": ".py",
   "mimetype": "text/x-python",
   "name": "python",
   "nbconvert_exporter": "python",
   "pygments_lexer": "ipython3",
   "version": "3.9.12"
  }
 },
 "nbformat": 4,
 "nbformat_minor": 5
}
